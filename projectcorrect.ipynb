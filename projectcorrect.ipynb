{
 "cells": [
  {
   "cell_type": "code",
   "execution_count": 1,
   "metadata": {},
   "outputs": [
    {
     "name": "stdout",
     "output_type": "stream",
     "text": [
      "Welcome. What is your name?mjay\n",
      "Welcome, mjay, can you guess what number I am thinking of? It's a number between 1 and 20.\n",
      "Your have 5 guesses...12\n",
      "Too high, guess again.\n",
      "Your have 5 guesses...15\n",
      "Too high, guess again.\n",
      "Your have 5 guesses...16\n",
      "Too high, guess again.\n",
      "Your have 5 guesses...7\n",
      "Too high, guess again.\n",
      "Your have 5 guesses...1\n",
      "Too low, try again.\n",
      "Hard luck, you are out of guesses. The number I was thinking of is 6.\n"
     ]
    }
   ],
   "source": [
    "import random\n",
    "\n",
    "# Initialize player guesses\n",
    "guessesUsed = 0\n",
    "\n",
    "# Collect player name\n",
    "name = input('Welcome. What is your name?')\n",
    "\n",
    "# Create a random number\n",
    "number = random.randint(1,20)\n",
    "\n",
    "# Print player welcome message\n",
    "print('Welcome, ' + name + ', can you guess what number I am thinking of? It\\'s a number between 1 and 20.')\n",
    "\n",
    "while guessesUsed < 5:\n",
    "    guess = int(input('Your have 5 guesses...'))\n",
    "    guessesUsed = guessesUsed + 1\n",
    "    if guess < number:\n",
    "        print('Too low, try again.')\n",
    "    if guess > number:\n",
    "        print('Too high, guess again.')\n",
    "    if guess == number:\n",
    "        break\n",
    "if guess == number:\n",
    "    guessesUsed = str(guessesUsed)\n",
    "    print('Well done, ' + name + '! You guessed correctly  in ' + guessesUsed + ' guesses.')\n",
    "    \n",
    "if guess != number:\n",
    "    number = str(number)\n",
    "    print('Hard luck, you are out of guesses. The number I was thinking of is ' + number + '.')"
   ]
  },
  {
   "cell_type": "code",
   "execution_count": null,
   "metadata": {},
   "outputs": [],
   "source": []
  }
 ],
 "metadata": {
  "kernelspec": {
   "display_name": "Python 3",
   "language": "python",
   "name": "python3"
  },
  "language_info": {
   "codemirror_mode": {
    "name": "ipython",
    "version": 3
   },
   "file_extension": ".py",
   "mimetype": "text/x-python",
   "name": "python",
   "nbconvert_exporter": "python",
   "pygments_lexer": "ipython3",
   "version": "3.7.4"
  }
 },
 "nbformat": 4,
 "nbformat_minor": 2
}
