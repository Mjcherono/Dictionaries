{
 "cells": [
  {
   "cell_type": "code",
   "execution_count": 2,
   "metadata": {},
   "outputs": [
    {
     "name": "stdout",
     "output_type": "stream",
     "text": [
      "1\n",
      "2\n",
      "3\n",
      "4\n",
      "5\n",
      "6\n",
      "7\n",
      "8\n",
      "9\n",
      "10\n"
     ]
    }
   ],
   "source": [
    "total = 0\n",
    "\n",
    "while total <=9:\n",
    "    total = total +1\n",
    "    print(total)"
   ]
  },
  {
   "cell_type": "code",
   "execution_count": 5,
   "metadata": {},
   "outputs": [
    {
     "name": "stdout",
     "output_type": "stream",
     "text": [
      "t-minus...\n",
      "7\n",
      "t-minus...\n",
      "6\n",
      "t-minus...\n",
      "5\n",
      "t-minus...\n",
      "4\n",
      "t-minus...\n",
      "3\n",
      "t-minus...\n",
      "2\n",
      "t-minus...\n",
      "1\n",
      "t-minus...\n",
      "0\n"
     ]
    }
   ],
   "source": [
    "blast_off = 8\n",
    "while blast_off !=0:\n",
    "    print(\"t-minus...\")\n",
    "    blast_off = blast_off - 1\n",
    "    print(blast_off)"
   ]
  },
  {
   "cell_type": "code",
   "execution_count": 14,
   "metadata": {},
   "outputs": [
    {
     "name": "stdout",
     "output_type": "stream",
     "text": [
      "...t-minus...\n",
      "10\n",
      "...t-minus...\n",
      "9\n",
      "...t-minus...\n",
      "8\n",
      "...t-minus...\n",
      "7\n",
      "...t-minus...\n",
      "6\n",
      "...t-minus...\n",
      "5\n",
      "...t-minus...\n",
      "4\n",
      "...t-minus...\n",
      "3\n",
      "...t-minus...\n",
      "2\n",
      "...t-minus...\n",
      "1\n",
      "...lift off...\n"
     ]
    }
   ],
   "source": [
    "blast_off = 11\n",
    "while blast_off != 1:\n",
    "    print(\"...t-minus...\")\n",
    "    blast_off = blast_off - 1\n",
    "    print(blast_off)\n",
    "    if blast_off <= 1:\n",
    "        print(\"...lift off...\")"
   ]
  },
  {
   "cell_type": "code",
   "execution_count": 16,
   "metadata": {},
   "outputs": [
    {
     "name": "stdout",
     "output_type": "stream",
     "text": [
      "21000\n",
      "23000\n",
      "29000\n",
      "34000\n",
      "38000\n",
      "59000\n",
      "60000\n"
     ]
    }
   ],
   "source": [
    "#the for loop\n",
    "salary_list = [21000,23000,29000,34000,38000,59000,60000]\n",
    "\n",
    "for salary in salary_list:\n",
    "    print(salary)"
   ]
  },
  {
   "cell_type": "code",
   "execution_count": 18,
   "metadata": {},
   "outputs": [
    {
     "name": "stdout",
     "output_type": "stream",
     "text": [
      "index1:21000\n",
      "index2:23000\n",
      "index3:29000\n",
      "index4:34000\n",
      "index5:38000\n",
      "index6:59000\n",
      "index7:60000\n"
     ]
    }
   ],
   "source": [
    "for index,salary in enumerate(salary_list):\n",
    "    print(\"index\" + str(index + 1) + \":\" + str(salary))"
   ]
  },
  {
   "cell_type": "code",
   "execution_count": 22,
   "metadata": {},
   "outputs": [
    {
     "name": "stdout",
     "output_type": "stream",
     "text": [
      "Tony earns 20000 per year\n",
      "Mjay earns 30000 per year\n",
      "Marv earns 40000 per year\n"
     ]
    }
   ],
   "source": [
    "employees = [[\"Tony\",20000],[\"Mjay\",30000],[\"Marv\",40000]]\n",
    "\n",
    "for staff in employees:\n",
    "    print(staff[0] + \" earns \" + str(staff[1])+\" per year\")"
   ]
  },
  {
   "cell_type": "code",
   "execution_count": 25,
   "metadata": {},
   "outputs": [
    {
     "name": "stdout",
     "output_type": "stream",
     "text": [
      "Ireland --4.5\n",
      "united kingdom --65.7\n"
     ]
    }
   ],
   "source": [
    "#loop over data structures\n",
    "world = {\"Ireland\":4.5,\"united kingdom\":65.7}\n",
    "\n",
    "#print out key and value for each key value pair\n",
    "for key, value in world.items():\n",
    "    print(key + \" --\" + str(value))\n"
   ]
  },
  {
   "cell_type": "code",
   "execution_count": 33,
   "metadata": {},
   "outputs": [
    {
     "name": "stdout",
     "output_type": "stream",
     "text": [
      "c 20000 per year\n",
      "c 25000 per year\n",
      "c 30000 per year\n",
      "c 35000 per year\n",
      "c 40000 per year\n",
      "c 450000 per year\n",
      "c 50000 per year\n"
     ]
    }
   ],
   "source": [
    "#loop over numpy arrays\n",
    "import numpy as np\n",
    "salaries = [20000,25000,30000,35000,40000,450000,50000]\n",
    "np_salaries = np.array(salaries)\n",
    "\n",
    "for s in np_salaries:\n",
    "    print(\"c \" +str(s) + \" per year\")"
   ]
  },
  {
   "cell_type": "code",
   "execution_count": 37,
   "metadata": {},
   "outputs": [
    {
     "name": "stdout",
     "output_type": "stream",
     "text": [
      "['20000' '25000' '30000' '35000' '40000' '450000' '50000']\n",
      "['joey' 'gee' 'coco' 'mark' 'tafari' 'reg' 'ross']\n"
     ]
    }
   ],
   "source": [
    "np_salaries =np.array([20000,25000,30000,35000,40000,450000,50000]) \n",
    "np_employees = np.array([\"joey\",\"gee\",\"coco\",\"mark\",\"tafari\",\"reg\",\"ross\"])\n",
    "\n",
    "combined_details = np.array([np_salaries,np_employees])\n",
    "\n",
    "for val in combined_details:\n",
    "    print(val)"
   ]
  },
  {
   "cell_type": "code",
   "execution_count": 40,
   "metadata": {},
   "outputs": [
    {
     "name": "stdout",
     "output_type": "stream",
     "text": [
      "country\n",
      "speaks_english\n",
      "2015 population\n"
     ]
    }
   ],
   "source": [
    "import pandas as pd \n",
    "speaks_english = pd.read_csv('datasets/speaks_english.csv', index_col =0)\n",
    "\n",
    "for val in speaks_english:\n",
    "    print(val)"
   ]
  },
  {
   "cell_type": "code",
   "execution_count": 44,
   "metadata": {
    "scrolled": true
   },
   "outputs": [
    {
     "name": "stdout",
     "output_type": "stream",
     "text": [
      "IE\n",
      "country            ireland\n",
      "speaks_english        True\n",
      "2015 population        4.7\n",
      "Name: IE, dtype: object\n",
      "UK\n",
      "country            united kingdom\n",
      "speaks_english               True\n",
      "2015 population              65.3\n",
      "Name: UK, dtype: object\n",
      "DE\n",
      "country            germany\n",
      "speaks_english       False\n",
      "2015 population       81.7\n",
      "Name: DE, dtype: object\n",
      "FR\n",
      "country            france\n",
      "speaks_english      False\n",
      "2015 population      64.4\n",
      "Name: FR, dtype: object\n",
      "AU\n",
      "country            australia\n",
      "speaks_english          True\n",
      "2015 population         23.8\n",
      "Name: AU, dtype: object\n",
      "US\n",
      "country            united states\n",
      "speaks_english              True\n",
      "2015 population            319.9\n",
      "Name: US, dtype: object\n",
      "JP\n",
      "country            japan\n",
      "speaks_english     False\n",
      "2015 population    129.9\n",
      "Name: JP, dtype: object\n"
     ]
    }
   ],
   "source": [
    "for lab,row in speaks_english.iterrows():\n",
    "      print(lab)\n",
    "      print(row)"
   ]
  },
  {
   "cell_type": "code",
   "execution_count": 47,
   "metadata": {},
   "outputs": [
    {
     "name": "stdout",
     "output_type": "stream",
     "text": [
      "IE: 4.7\n",
      "UK: 65.3\n",
      "DE: 81.7\n",
      "FR: 64.4\n",
      "AU: 23.8\n",
      "US: 319.9\n",
      "JP: 129.9\n"
     ]
    }
   ],
   "source": [
    "for lab, row in speaks_english.iterrows():\n",
    "     print(lab + \": \" + str(row[\"2015 population\"]))"
   ]
  },
  {
   "cell_type": "code",
   "execution_count": 49,
   "metadata": {
    "scrolled": true
   },
   "outputs": [
    {
     "name": "stdout",
     "output_type": "stream",
     "text": [
      "           country  speaks_english  2015 population  name length\n",
      "IE         ireland            True              4.7          7.0\n",
      "UK  united kingdom            True             65.3          NaN\n",
      "DE         germany           False             81.7          NaN\n",
      "FR          france           False             64.4          NaN\n",
      "AU       australia            True             23.8          NaN\n",
      "US   united states            True            319.9          NaN\n",
      "JP           japan           False            129.9          NaN\n",
      "           country  speaks_english  2015 population  name length\n",
      "IE         ireland            True              4.7          7.0\n",
      "UK  united kingdom            True             65.3         14.0\n",
      "DE         germany           False             81.7          NaN\n",
      "FR          france           False             64.4          NaN\n",
      "AU       australia            True             23.8          NaN\n",
      "US   united states            True            319.9          NaN\n",
      "JP           japan           False            129.9          NaN\n",
      "           country  speaks_english  2015 population  name length\n",
      "IE         ireland            True              4.7          7.0\n",
      "UK  united kingdom            True             65.3         14.0\n",
      "DE         germany           False             81.7          7.0\n",
      "FR          france           False             64.4          NaN\n",
      "AU       australia            True             23.8          NaN\n",
      "US   united states            True            319.9          NaN\n",
      "JP           japan           False            129.9          NaN\n",
      "           country  speaks_english  2015 population  name length\n",
      "IE         ireland            True              4.7          7.0\n",
      "UK  united kingdom            True             65.3         14.0\n",
      "DE         germany           False             81.7          7.0\n",
      "FR          france           False             64.4          6.0\n",
      "AU       australia            True             23.8          NaN\n",
      "US   united states            True            319.9          NaN\n",
      "JP           japan           False            129.9          NaN\n",
      "           country  speaks_english  2015 population  name length\n",
      "IE         ireland            True              4.7          7.0\n",
      "UK  united kingdom            True             65.3         14.0\n",
      "DE         germany           False             81.7          7.0\n",
      "FR          france           False             64.4          6.0\n",
      "AU       australia            True             23.8          9.0\n",
      "US   united states            True            319.9          NaN\n",
      "JP           japan           False            129.9          NaN\n",
      "           country  speaks_english  2015 population  name length\n",
      "IE         ireland            True              4.7          7.0\n",
      "UK  united kingdom            True             65.3         14.0\n",
      "DE         germany           False             81.7          7.0\n",
      "FR          france           False             64.4          6.0\n",
      "AU       australia            True             23.8          9.0\n",
      "US   united states            True            319.9         13.0\n",
      "JP           japan           False            129.9          NaN\n",
      "           country  speaks_english  2015 population  name length\n",
      "IE         ireland            True              4.7          7.0\n",
      "UK  united kingdom            True             65.3         14.0\n",
      "DE         germany           False             81.7          7.0\n",
      "FR          france           False             64.4          6.0\n",
      "AU       australia            True             23.8          9.0\n",
      "US   united states            True            319.9         13.0\n",
      "JP           japan           False            129.9          5.0\n"
     ]
    }
   ],
   "source": [
    "speaks_english = pd.read_csv('datasets/speaks_english.csv', index_col =0)\n",
    "\n",
    "#for loop remains the same\n",
    "for lab, row in speaks_english.iterrows():\n",
    "    #we can select the country name by using row[\"country\"] and passing\n",
    "    #it thru the length function\n",
    "    #we then need to add this new information to a new column\n",
    "    #use loc which is label based\n",
    "    speaks_english.loc[lab, \"name length\"]= len(row[\"country\"])\n",
    "    print(speaks_english)"
   ]
  },
  {
   "cell_type": "code",
   "execution_count": 50,
   "metadata": {},
   "outputs": [
    {
     "name": "stdout",
     "output_type": "stream",
     "text": [
      "           country  speaks_english  2015 population  name_length\n",
      "IE         ireland            True              4.7            7\n",
      "UK  united kingdom            True             65.3           14\n",
      "DE         germany           False             81.7            7\n",
      "FR          france           False             64.4            6\n",
      "AU       australia            True             23.8            9\n",
      "US   united states            True            319.9           13\n",
      "JP           japan           False            129.9            5\n"
     ]
    }
   ],
   "source": [
    "speaks_english = pd.read_csv('datasets/speaks_english.csv', index_col =0)\n",
    "\n",
    "#removing the for loop\n",
    "speaks_english[\"name_length\"] = speaks_english[\"country\"].apply(len)\n",
    "print(speaks_english)"
   ]
  },
  {
   "cell_type": "code",
   "execution_count": null,
   "metadata": {},
   "outputs": [],
   "source": []
  }
 ],
 "metadata": {
  "kernelspec": {
   "display_name": "Python 3",
   "language": "python",
   "name": "python3"
  },
  "language_info": {
   "codemirror_mode": {
    "name": "ipython",
    "version": 3
   },
   "file_extension": ".py",
   "mimetype": "text/x-python",
   "name": "python",
   "nbconvert_exporter": "python",
   "pygments_lexer": "ipython3",
   "version": "3.7.4"
  }
 },
 "nbformat": 4,
 "nbformat_minor": 2
}
