{
 "cells": [
  {
   "cell_type": "code",
   "execution_count": 2,
   "metadata": {},
   "outputs": [
    {
     "data": {
      "text/plain": [
       "27179.554818510358"
      ]
     },
     "execution_count": 2,
     "metadata": {},
     "output_type": "execute_result"
    }
   ],
   "source": [
    "#MEAN,MEDIAN,MODE\n",
    "import numpy as np \n",
    "incomes = np.random.normal(27000, 15000, 10000)\n",
    "np.mean(incomes)"
   ]
  },
  {
   "cell_type": "code",
   "execution_count": 4,
   "metadata": {},
   "outputs": [
    {
     "data": {
      "image/png": "[encoded data removed]",
      "text/plain": [
       "<Figure size 432x288 with 1 Axes>"
      ]
     },
     "metadata": {
      "needs_background": "light"
     },
     "output_type": "display_data"
    }
   ],
   "source": [
    "%matplotlib inline\n",
    "import matplotlib.pyplot as plt\n",
    "plt.hist(incomes, 50)\n",
    "plt.show()"
   ]
  },
  {
   "cell_type": "code",
   "execution_count": 5,
   "metadata": {},
   "outputs": [
    {
     "data": {
      "text/plain": [
       "27073.944266615552"
      ]
     },
     "execution_count": 5,
     "metadata": {},
     "output_type": "execute_result"
    }
   ],
   "source": [
    "np.median(incomes)"
   ]
  },
  {
   "cell_type": "code",
   "execution_count": 9,
   "metadata": {},
   "outputs": [],
   "source": [
    "incomes = np.append(incomes,100000000000)"
   ]
  },
  {
   "cell_type": "code",
   "execution_count": 10,
   "metadata": {},
   "outputs": [
    {
     "data": {
      "text/plain": [
       "27081.455774603994"
      ]
     },
     "execution_count": 10,
     "metadata": {},
     "output_type": "execute_result"
    }
   ],
   "source": [
    "np.median(incomes)"
   ]
  },
  {
   "cell_type": "code",
   "execution_count": 11,
   "metadata": {},
   "outputs": [
    {
     "data": {
      "text/plain": [
       "10035172.520314448"
      ]
     },
     "execution_count": 11,
     "metadata": {},
     "output_type": "execute_result"
    }
   ],
   "source": [
    "np.mean(incomes)"
   ]
  },
  {
   "cell_type": "code",
   "execution_count": 12,
   "metadata": {},
   "outputs": [
    {
     "data": {
      "text/plain": [
       "array([83, 29, 83, 63, 60, 30, 27, 80, 74, 22, 83, 57, 57, 63, 71, 40, 72,\n",
       "       75, 48, 70, 34, 78, 42, 60, 62, 62, 64, 25, 65, 66, 40, 32, 61, 85,\n",
       "       48, 34, 48, 75, 81, 83, 50, 52, 89, 89, 66, 83, 22, 85, 72, 74, 38,\n",
       "       80, 84, 52, 44, 39, 77, 81, 19, 72, 81, 41, 71, 61, 29, 37, 52, 64,\n",
       "       39, 70, 75, 25, 38, 86, 48, 82, 23, 75, 37, 87, 21, 79, 75, 69, 52,\n",
       "       36, 71, 47, 55, 18, 88, 20, 60, 87, 26, 18, 82, 45, 82, 72, 57, 66,\n",
       "       20, 37, 72, 85, 53, 44, 55, 45, 49, 22, 25, 68, 61, 87, 85, 74, 42,\n",
       "       64, 18, 70, 74, 71, 25, 50, 56, 65, 50, 88, 62, 53, 66, 48, 38, 25,\n",
       "       57, 75, 22, 27, 60, 39, 52, 88, 85, 59, 50, 78, 63, 33, 22, 35, 25,\n",
       "       79, 47, 56, 56, 22, 49, 24, 55, 19, 19, 83, 65, 40, 25, 63, 47, 66,\n",
       "       23, 76, 52, 66, 67, 42, 33, 48, 20, 29, 52, 66, 62, 65, 37, 19, 19,\n",
       "       22, 46, 83, 61, 76, 20, 55, 54, 54, 21, 23, 65, 21, 29, 58, 77, 59,\n",
       "       53, 89, 59, 75, 35, 51, 31, 65, 54, 70, 84, 41, 81, 29, 20, 46, 78,\n",
       "       83, 24, 34, 18, 58, 20, 79, 81, 84, 74, 49, 68, 37, 50, 40, 18, 57,\n",
       "       33, 68, 67, 53, 47, 59, 71, 21, 49, 55, 61, 44, 36, 74, 89, 69, 42,\n",
       "       42, 20, 46, 26, 82, 82, 37, 74, 21, 33, 22, 41, 38, 51, 73, 27, 59,\n",
       "       36, 36, 73, 47, 74, 73, 43, 67, 76, 26, 73, 29, 84, 40, 36, 35, 64,\n",
       "       38, 85, 89, 57, 33, 56, 84, 60, 73, 38, 33, 51, 21, 45, 31, 63, 57,\n",
       "       51, 81, 85, 82, 81, 77, 83, 80, 53, 52, 47, 34, 56, 62, 46, 29, 59,\n",
       "       57, 42, 89, 45, 57, 78, 62, 77, 48, 81, 79, 63, 28, 77, 44, 82, 53,\n",
       "       57, 58, 27, 18, 77, 46, 57, 67, 47, 28, 38, 86, 55, 54, 78, 50, 66,\n",
       "       65, 38, 89, 22, 33, 35, 70, 79, 29, 89, 32, 58, 54, 30, 83, 84, 73,\n",
       "       32, 59, 44, 29, 41, 45, 60, 34, 19, 42, 23, 32, 40, 20, 45, 53, 52,\n",
       "       26, 64, 53, 35, 28, 82, 89, 68, 37, 60, 29, 88, 50, 52, 45, 84, 59,\n",
       "       65, 62, 86, 24, 78, 86, 55, 51, 74, 21, 61, 18, 67, 25, 51, 79, 55,\n",
       "       38, 19, 61, 31, 87, 86, 45, 27, 41, 76, 54, 64, 35, 35, 32, 81, 66,\n",
       "       24, 29, 40, 67, 52, 80, 89, 78, 33, 72, 87, 53, 50, 43, 26, 78, 49,\n",
       "       40, 34, 31, 66, 78, 57, 71, 34, 49, 48, 59, 40, 67, 42, 30, 88, 78,\n",
       "       64, 51, 84, 43, 26, 61, 66, 25, 86, 85, 28, 47, 82, 38, 38, 72, 79,\n",
       "       39, 66, 40, 34, 80, 28, 18])"
      ]
     },
     "execution_count": 12,
     "metadata": {},
     "output_type": "execute_result"
    }
   ],
   "source": [
    "#MODE\n",
    "ages = np.random.randint(18, high = 90, size = 500)\n",
    "ages"
   ]
  },
  {
   "cell_type": "code",
   "execution_count": 13,
   "metadata": {},
   "outputs": [
    {
     "data": {
      "text/plain": [
       "ModeResult(mode=array([57]), count=array([12]))"
      ]
     },
     "execution_count": 13,
     "metadata": {},
     "output_type": "execute_result"
    }
   ],
   "source": [
    "from scipy import stats\n",
    "stats.mode(ages)"
   ]
  },
  {
   "cell_type": "code",
   "execution_count": 14,
   "metadata": {},
   "outputs": [
    {
     "data": {
      "image/png": "[encoded data removed]",
      "text/plain": [
       "<Figure size 432x288 with 1 Axes>"
      ]
     },
     "metadata": {
      "needs_background": "light"
     },
     "output_type": "display_data"
    }
   ],
   "source": [
    "import numpy as np\n",
    "import matplotlib.pyplot as plt\n",
    "\n",
    "incomes = np.random.normal(100.0, 20.0, 10000)\n",
    "\n",
    "plt.hist(incomes,50)\n",
    "plt.show()"
   ]
  },
  {
   "cell_type": "code",
   "execution_count": 15,
   "metadata": {},
   "outputs": [
    {
     "data": {
      "text/plain": [
       "100.17112613466612"
      ]
     },
     "execution_count": 15,
     "metadata": {},
     "output_type": "execute_result"
    }
   ],
   "source": [
    "np.mean(incomes)"
   ]
  },
  {
   "cell_type": "code",
   "execution_count": 17,
   "metadata": {},
   "outputs": [
    {
     "data": {
      "text/plain": [
       "100.20802388040548"
      ]
     },
     "execution_count": 17,
     "metadata": {},
     "output_type": "execute_result"
    }
   ],
   "source": [
    "np.median(incomes)"
   ]
  },
  {
   "cell_type": "code",
   "execution_count": null,
   "metadata": {},
   "outputs": [],
   "source": []
  }
 ],
 "metadata": {
  "kernelspec": {
   "display_name": "Python 3",
   "language": "python",
   "name": "python3"
  },
  "language_info": {
   "codemirror_mode": {
    "name": "ipython",
    "version": 3
   },
   "file_extension": ".py",
   "mimetype": "text/x-python",
   "name": "python",
   "nbconvert_exporter": "python",
   "pygments_lexer": "ipython3",
   "version": "3.7.4"
  }
 },
 "nbformat": 4,
 "nbformat_minor": 2
}
