{
 "cells": [
  {
   "cell_type": "code",
   "execution_count": null,
   "metadata": {},
   "outputs": [],
   "source": [
    "name = \"Mjay\"\n",
    "if name == \"Mjay\":\n",
    "    print(\"Welcome what is your name ? Mjay\")\n"
   ]
  },
  {
   "cell_type": "code",
   "execution_count": null,
   "metadata": {},
   "outputs": [],
   "source": [
    "name = \"Mjay\"\n",
    "if name == \"Mjay\":\n",
    "    print(\"Can you guess what number I'm thinking of?It's a number between 1 and 20\")"
   ]
  },
  {
   "cell_type": "code",
   "execution_count": null,
   "metadata": {},
   "outputs": [],
   "source": [
    "#project\n",
    "import random\n",
    "\n",
    "guessesused = 0\n",
    "\n",
    "name = input('Welcome what is your name?')\n",
    "\n",
    "#create a random number\n",
    "number = random.randint(1,20)\n",
    "\n",
    "#print player welcome message\n",
    "print(\"Welcome, \" + name + \",Can you guess what number I am thinking of?It's a number between 1 and 20.\")\n",
    "\n",
    "while guessesused < 5:\n",
    "    guess = int(input('You have 5 guesses...'))\n",
    "guessesused = guessesused + 1\n",
    "if guess < number:\n",
    "    print('too low, try again')\n",
    "    if guess > number:\n",
    "        print('too high, try again')\n",
    "    if guess == number:\n",
    "            guessesused = str(guessesused)\n",
    "print('Well done, ' + name + \"! You have guessed correctly in \" + guessesused + \"gueses.\")\n",
    "if guess != number:\n",
    "        number == str(number)\n",
    "        print('sorry you are out of guesses the number i was thinking of was ' + number +\".\")\n",
    "guessesused -=1"
   ]
  },
  {
   "cell_type": "code",
   "execution_count": null,
   "metadata": {},
   "outputs": [],
   "source": [
    "\n"
   ]
  },
  {
   "cell_type": "code",
   "execution_count": null,
   "metadata": {},
   "outputs": [],
   "source": []
  }
 ],
 "metadata": {
  "kernelspec": {
   "display_name": "Python 3",
   "language": "python",
   "name": "python3"
  },
  "language_info": {
   "codemirror_mode": {
    "name": "ipython",
    "version": 3
   },
   "file_extension": ".py",
   "mimetype": "text/x-python",
   "name": "python",
   "nbconvert_exporter": "python",
   "pygments_lexer": "ipython3",
   "version": "3.7.4"
  }
 },
 "nbformat": 4,
 "nbformat_minor": 2
}
