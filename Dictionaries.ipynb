{
 "cells": [
  {
   "cell_type": "code",
   "execution_count": 1,
   "metadata": {},
   "outputs": [],
   "source": [
    "#a lost of areas\n",
    "team_areas = ['develop','design','fiona']\n",
    "\n",
    "#list of team members\n",
    "team_members = ['marv','tafari','coco']"
   ]
  },
  {
   "cell_type": "code",
   "execution_count": 2,
   "metadata": {},
   "outputs": [
    {
     "name": "stdout",
     "output_type": "stream",
     "text": [
      "tafari\n"
     ]
    }
   ],
   "source": [
    "#use index() to get the index of the design\n",
    "index_design = team_areas.index('design')\n",
    "\n",
    "##use index design to obtain the team member of design from the team members list\n",
    "print(team_members[index_design])"
   ]
  },
  {
   "cell_type": "code",
   "execution_count": 3,
   "metadata": {},
   "outputs": [],
   "source": [
    "#create a new dictionary called project web\n",
    "#dictionaries are made using calibrackets\n",
    "#key value pair and is linked to another value\n",
    "project_web = {\"developer\":\"Tony\",\"design\":\"mark\",\"finance\":\"fiona\"}"
   ]
  },
  {
   "cell_type": "code",
   "execution_count": 6,
   "metadata": {},
   "outputs": [
    {
     "data": {
      "text/plain": [
       "'Tony'"
      ]
     },
     "execution_count": 6,
     "metadata": {},
     "output_type": "execute_result"
    }
   ],
   "source": [
    "#output the value of the developer\n",
    "project_web['developer']\n",
    "#project_web['design']"
   ]
  },
  {
   "cell_type": "code",
   "execution_count": 8,
   "metadata": {},
   "outputs": [
    {
     "name": "stdout",
     "output_type": "stream",
     "text": [
      "[{'developer': 'Tony', 'design': 'mark', 'finance': 'fiona'}]\n"
     ]
    }
   ],
   "source": [
    "#output the entire dictionary\n",
    "print([project_web])"
   ]
  },
  {
   "cell_type": "code",
   "execution_count": 10,
   "metadata": {},
   "outputs": [
    {
     "name": "stdout",
     "output_type": "stream",
     "text": [
      "dict_keys(['developer', 'design', 'finance'])\n"
     ]
    }
   ],
   "source": [
    "#output dictionary keys\n",
    "print(project_web.keys())"
   ]
  },
  {
   "cell_type": "code",
   "execution_count": 11,
   "metadata": {},
   "outputs": [
    {
     "data": {
      "text/plain": [
       "{'developer': 'Tony',\n",
       " 'design': 'mark',\n",
       " 'finance': 'fiona',\n",
       " 'marketing': 'jane'}"
      ]
     },
     "execution_count": 11,
     "metadata": {},
     "output_type": "execute_result"
    }
   ],
   "source": [
    "#adding key to dictionary\n",
    "project_web[\"marketing\"] = \"jane\"\n",
    "\n",
    "project_web"
   ]
  },
  {
   "cell_type": "code",
   "execution_count": 12,
   "metadata": {},
   "outputs": [
    {
     "data": {
      "text/plain": [
       "True"
      ]
     },
     "execution_count": 12,
     "metadata": {},
     "output_type": "execute_result"
    }
   ],
   "source": [
    "#check if marketing is in web\n",
    "\"marketing\" in project_web"
   ]
  },
  {
   "cell_type": "code",
   "execution_count": 13,
   "metadata": {},
   "outputs": [
    {
     "data": {
      "text/plain": [
       "{'developer': 'marv',\n",
       " 'design': 'mark',\n",
       " 'finance': 'fiona',\n",
       " 'marketing': 'jane'}"
      ]
     },
     "execution_count": 13,
     "metadata": {},
     "output_type": "execute_result"
    }
   ],
   "source": [
    "#changing values\n",
    "project_web[\"developer\"] = \"marv\"\n",
    "project_web"
   ]
  },
  {
   "cell_type": "code",
   "execution_count": 14,
   "metadata": {},
   "outputs": [
    {
     "data": {
      "text/plain": [
       "{'design': 'mark', 'finance': 'fiona', 'marketing': 'jane'}"
      ]
     },
     "execution_count": 14,
     "metadata": {},
     "output_type": "execute_result"
    }
   ],
   "source": [
    "del(project_web[\"developer\"])\n",
    "project_web"
   ]
  },
  {
   "cell_type": "code",
   "execution_count": 17,
   "metadata": {},
   "outputs": [],
   "source": [
    "#Create a dicionary with dictionaries as values\n",
    "web_project02 = {\"developers\": {\"lead developer\":\"tony\", \"junior developer\":\"carl\"}, \n",
    "                 \"design\":{\"head of design\":\"mark\", \"junior designer\":\"james\"},\n",
    "                 \"finance\":{\"head of finance\":\"fiona\", \"accountant\":\"paul\"}}"
   ]
  },
  {
   "cell_type": "code",
   "execution_count": 18,
   "metadata": {},
   "outputs": [
    {
     "name": "stdout",
     "output_type": "stream",
     "text": [
      "mark\n"
     ]
    }
   ],
   "source": [
    "#to access a value use two keys\n",
    "#accessing values of a dictionary withing a dictionary\n",
    "print(web_project02[\"design\"][\"head of design\"])"
   ]
  },
  {
   "cell_type": "code",
   "execution_count": 19,
   "metadata": {},
   "outputs": [],
   "source": [
    "#create a sub dictionary\n",
    "temp_team = {\"head of marketing \":\"jane\",\"researcher\":\"harry\"}"
   ]
  },
  {
   "cell_type": "code",
   "execution_count": 20,
   "metadata": {},
   "outputs": [],
   "source": [
    "#add temp team ton web project02 under the key \"marketing\"\n",
    "web_project02[\"marketing\"] = temp_team"
   ]
  },
  {
   "cell_type": "code",
   "execution_count": 21,
   "metadata": {},
   "outputs": [
    {
     "data": {
      "text/plain": [
       "{'developers': {'lead developer': 'tony', 'junior developer': 'carl'},\n",
       " 'design': {'head of design': 'mark', 'junior designer': 'james'},\n",
       " 'finance': {'head of finance': 'fiona', 'accountant': 'paul'},\n",
       " 'marketing': {'head of marketing ': 'jane', 'researcher': 'harry'}}"
      ]
     },
     "execution_count": 21,
     "metadata": {},
     "output_type": "execute_result"
    }
   ],
   "source": [
    "web_project02"
   ]
  },
  {
   "cell_type": "code",
   "execution_count": null,
   "metadata": {},
   "outputs": [],
   "source": []
  }
 ],
 "metadata": {
  "kernelspec": {
   "display_name": "Python 3",
   "language": "python",
   "name": "python3"
  },
  "language_info": {
   "codemirror_mode": {
    "name": "ipython",
    "version": 3
   },
   "file_extension": ".py",
   "mimetype": "text/x-python",
   "name": "python",
   "nbconvert_exporter": "python",
   "pygments_lexer": "ipython3",
   "version": "3.7.4"
  }
 },
 "nbformat": 4,
 "nbformat_minor": 2
}
