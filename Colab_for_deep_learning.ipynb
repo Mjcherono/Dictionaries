{
  "nbformat": 4,
  "nbformat_minor": 0,
  "metadata": {
    "colab": {
      "name": "Colab for deep learning",
      "provenance": [],
      "authorship_tag": "ABX9TyPyu7cViny2BXfL7MzCsqh4",
      "include_colab_link": true
    },
    "kernelspec": {
      "name": "python3",
      "display_name": "Python 3"
    }
  },
  "cells": [
    {
      "cell_type": "markdown",
      "metadata": {
        "id": "view-in-github",
        "colab_type": "text"
      },
      "source": [
        "<a href=\"https://colab.research.google.com/github/Mjcherono/Dictionaries/blob/master/Colab_for_deep_learning.ipynb\" target=\"_parent\"><img src=\"https://colab.research.google.com/assets/colab-badge.svg\" alt=\"Open In Colab\"/></a>"
      ]
    },
    {
      "cell_type": "code",
      "metadata": {
        "id": "OuQHMlFpxw5s",
        "colab_type": "code",
        "colab": {}
      },
      "source": [
        "import tensorflow as tf\n"
      ],
      "execution_count": 4,
      "outputs": []
    },
    {
      "cell_type": "code",
      "metadata": {
        "id": "emsRshmJx7xh",
        "colab_type": "code",
        "colab": {}
      },
      "source": [
        "mnist = tf.keras.datasets.fashion_mnist"
      ],
      "execution_count": 6,
      "outputs": []
    },
    {
      "cell_type": "code",
      "metadata": {
        "id": "MWEV6FKBy3VJ",
        "colab_type": "code",
        "colab": {
          "base_uri": "https://localhost:8080/",
          "height": 171
        },
        "outputId": "4efbaebd-816e-4fa0-c0b3-473078d73469"
      },
      "source": [
        "(train_images, train_labels),(test_images, test_labels)= mnist.load_data()\n"
      ],
      "execution_count": 8,
      "outputs": [
        {
          "output_type": "stream",
          "text": [
            "Downloading data from https://storage.googleapis.com/tensorflow/tf-keras-datasets/train-labels-idx1-ubyte.gz\n",
            "32768/29515 [=================================] - 0s 0us/step\n",
            "Downloading data from https://storage.googleapis.com/tensorflow/tf-keras-datasets/train-images-idx3-ubyte.gz\n",
            "26427392/26421880 [==============================] - 0s 0us/step\n",
            "Downloading data from https://storage.googleapis.com/tensorflow/tf-keras-datasets/t10k-labels-idx1-ubyte.gz\n",
            "8192/5148 [===============================================] - 0s 0us/step\n",
            "Downloading data from https://storage.googleapis.com/tensorflow/tf-keras-datasets/t10k-images-idx3-ubyte.gz\n",
            "4423680/4422102 [==============================] - 0s 0us/step\n"
          ],
          "name": "stdout"
        }
      ]
    },
    {
      "cell_type": "code",
      "metadata": {
        "id": "N3cMd8fQzKfU",
        "colab_type": "code",
        "colab": {
          "base_uri": "https://localhost:8080/",
          "height": 1000
        },
        "outputId": "cadccad1-3040-431f-8cfc-4d72e4b8a29e"
      },
      "source": [
        "import matplotlib.pyplot as plt\n",
        "plt.imshow(train_images[40])\n",
        "print(train_labels[40])\n",
        "print(train_images[40])"
      ],
      "execution_count": 13,
      "outputs": [
        {
          "output_type": "stream",
          "text": [
            "6\n",
            "[[  0   0   0   0   0   0   0   0   1   0   0  37 192 177 171 199  27   0\n",
            "    0   0   1   3   0   0   0   0   0   0]\n",
            " [  0   0   0   0   0   0   9   0   0   0   0 135 230 162 155 253 164  14\n",
            "    0   0   0   0   3   0   0   0   0   0]\n",
            " [  0   0   0   0   1   0   0   0  64 152 232 207 195 155 157 201 227 224\n",
            "  221 172  94   4   0   0   0   0   0   0]\n",
            " [  0   0   0   0   0   0 112 179 205 199 192 197 216 194 192 220 210 192\n",
            "  191 203 207 208  62   0   1   0   0   0]\n",
            " [  0   0   0   0   0  75 208 186 178 185 172 197 213 195 200 208 199 188\n",
            "  187 181 180 204 192   0   0   0   0   0]\n",
            " [  0   0   0   0   0 180 190 179 185 182 184 178 166 193 185 167 187 186\n",
            "  184 184 192 192 223  28   0   0   0   0]\n",
            " [  0   0   0   0   0 205 190 182 182 185 182 185 181 182 180 180 185 186\n",
            "  182 184 201 195 219  72   0   0   0   0]\n",
            " [  0   0   0   0   0 210 186 194 181 181 182 178 180 184 182 177 179 185\n",
            "  184 194 211 188 218  95   0   0   0   0]\n",
            " [  0   0   0   0   0 217 179 193 193 175 175 174 178 182 184 174 177 177\n",
            "  186 206 208 185 219 106   0   0   0   0]\n",
            " [  0   0   0   0  14 217 175 186 206 184 173 174 177 179 180 173 174 172\n",
            "  194 210 203 186 214 119   0   0   0   0]\n",
            " [  0   0   0   0  35 220 170 194 213 186 181 174 177 175 181 177 178 179\n",
            "  199 213 217 178 214 129   0   0   0   0]\n",
            " [  0   0   0   0  49 220 171 191 198 198 179 177 175 173 178 175 175 182\n",
            "  192 210 186 180 208 149   0   0   0   0]\n",
            " [  0   0   0   0  70 220 173 174 103 225 175 179 175 174 180 177 179 179\n",
            "  204 195 112 207 198 185   0   0   0   0]\n",
            " [  0   0   0   0  77 214 179 187  41 240 179 179 177 174 180 178 180 180\n",
            "  216 174  61 229 194 205   0   0   0   0]\n",
            " [  0   0   0   0  94 190 184 197   0 224 186 179 177 175 179 179 184 177\n",
            "  223 153  33 238 188 188   0   0   0   0]\n",
            " [  0   0   0   0 110 186 194 181   0 217 192 179 179 177 178 177 184 178\n",
            "  229 145   0 240 186 197   0   0   0   0]\n",
            " [  0   0   0   0 114 184 197 165   0 208 198 178 180 181 184 178 184 178\n",
            "  226 157   0 244 184 201   4   0   0   0]\n",
            " [  0   0   0   0 103 182 195 135   0 201 192 177 180 181 187 179 184 177\n",
            "  221 173   0 226 186 204  30   0   0   0]\n",
            " [  0   0   0   0  95 182 194  88   0 208 191 177 180 180 181 177 182 182\n",
            "  208 197   0 193 193 206  48   0   0   0]\n",
            " [  0   0   0   0  93 182 198  35   0 224 188 180 180 179 184 180 184 186\n",
            "  192 218   0 155 197 205  62   0   0   0]\n",
            " [  0   0   0   0  87 182 195   1   0 232 184 181 180 179 184 179 180 182\n",
            "  186 239   0 108 198 205  74   0   0   0]\n",
            " [  0   0   0   0  80 184 224   0   0 238 180 180 180 180 181 178 180 185\n",
            "  184 252   0  33 201 205  83   0   0   0]\n",
            " [  0   0   0   0  75 185 223   0   3 239 179 179 180 181 185 181 182 187\n",
            "  182 255  16   0 237 205  90   0   0   0]\n",
            " [  0   0   0   0  67 188 204   0  14 234 179 179 179 180 187 181 179 178\n",
            "  181 249  46   0 225 210  94   0   0   0]\n",
            " [  0   0   0   0  66 190 160   0   5 231 180 180 178 177 180 179 181 180\n",
            "  180 211  50   0 175 204 114   0   0   0]\n",
            " [  0   0   0   0 103 211 167   0   0 190 181 177 173 173 173 172 174 177\n",
            "  179 211  23   0 166 220 129   0   0   0]\n",
            " [  0   0   0   0  62 151 142   0   0 179 194 188 219 214 208 208 210 188\n",
            "  201 165   0   0 121 146  89   0   0   0]\n",
            " [  0   0   0   0   0   0   0   0   0   0  30  55  81  96  90 100  89  76\n",
            "   41   0   0   0   0   0   0   0   0   0]]\n"
          ],
          "name": "stdout"
        },
        {
          "output_type": "display_data",
          "data": {
            "image/png": "[encoded data removed]",
            "text/plain": [
              "<Figure size 432x288 with 1 Axes>"
            ]
          },
          "metadata": {
            "tags": [],
            "needs_background": "light"
          }
        }
      ]
    },
    {
      "cell_type": "code",
      "metadata": {
        "id": "V00MuRKnzzA6",
        "colab_type": "code",
        "colab": {}
      },
      "source": [
        "#since neural networks work well with normalized data\n",
        "training_images = train_images/255.0\n",
        "test_images =test_images/255."
      ],
      "execution_count": 16,
      "outputs": []
    },
    {
      "cell_type": "code",
      "metadata": {
        "id": "cUdfsOJ22QQO",
        "colab_type": "code",
        "colab": {}
      },
      "source": [
        "#design our model\n",
        "model = tf.keras.models.Sequential([tf.keras.layers.Flatten(),\n",
        "                                    tf.keras.layers.Dense(128, activation = tf.nn.relu),\n",
        "                                    tf.keras.layers.Dense(10, activation = tf.nn.softmax)\n",
        "                                    ])"
      ],
      "execution_count": 18,
      "outputs": []
    },
    {
      "cell_type": "code",
      "metadata": {
        "id": "7FMcnPXr3E60",
        "colab_type": "code",
        "colab": {
          "base_uri": "https://localhost:8080/",
          "height": 222
        },
        "outputId": "a3e42970-6276-4486-9ca9-45597f8b1009"
      },
      "source": [
        "model.compile(optimizer = tf.keras.optimizers.Adam(),\n",
        "              loss = 'sparse_categorical_crossentropy',\n",
        "              metrics=['accuracy'])\n",
        "\n",
        "model.fit(train_images, train_labels, epochs=5)\n"
      ],
      "execution_count": 23,
      "outputs": [
        {
          "output_type": "stream",
          "text": [
            "Epoch 1/5\n",
            "1875/1875 [==============================] - 3s 2ms/step - loss: 2.4548 - accuracy: 0.6882\n",
            "Epoch 2/5\n",
            "1875/1875 [==============================] - 3s 2ms/step - loss: 0.6497 - accuracy: 0.7760\n",
            "Epoch 3/5\n",
            "1875/1875 [==============================] - 3s 2ms/step - loss: 0.5564 - accuracy: 0.8081\n",
            "Epoch 4/5\n",
            "1875/1875 [==============================] - 3s 2ms/step - loss: 0.5199 - accuracy: 0.8235\n",
            "Epoch 5/5\n",
            "1875/1875 [==============================] - 3s 2ms/step - loss: 0.5049 - accuracy: 0.8249\n"
          ],
          "name": "stdout"
        },
        {
          "output_type": "execute_result",
          "data": {
            "text/plain": [
              "<tensorflow.python.keras.callbacks.History at 0x7f3f045f0ef0>"
            ]
          },
          "metadata": {
            "tags": []
          },
          "execution_count": 23
        }
      ]
    },
    {
      "cell_type": "code",
      "metadata": {
        "id": "v41laDt68CwA",
        "colab_type": "code",
        "colab": {
          "base_uri": "https://localhost:8080/",
          "height": 70
        },
        "outputId": "066bc5eb-021d-42a3-e739-df965a5ac732"
      },
      "source": [
        "model.evaluate(test_images, test_labels)"
      ],
      "execution_count": 24,
      "outputs": [
        {
          "output_type": "stream",
          "text": [
            "313/313 [==============================] - 0s 1ms/step - loss: 2.6105 - accuracy: 0.1000\n"
          ],
          "name": "stdout"
        },
        {
          "output_type": "execute_result",
          "data": {
            "text/plain": [
              "[2.6104929447174072, 0.10000000149011612]"
            ]
          },
          "metadata": {
            "tags": []
          },
          "execution_count": 24
        }
      ]
    },
    {
      "cell_type": "code",
      "metadata": {
        "id": "WkeieTw7_fa-",
        "colab_type": "code",
        "colab": {}
      },
      "source": [
        ""
      ],
      "execution_count": null,
      "outputs": []
    }
  ]
}